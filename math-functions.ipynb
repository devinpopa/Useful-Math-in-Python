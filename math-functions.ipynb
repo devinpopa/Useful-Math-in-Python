{
 "cells": [
  {
   "cell_type": "code",
   "execution_count": 1,
   "metadata": {},
   "outputs": [],
   "source": [
    "import unittest"
   ]
  },
  {
   "cell_type": "code",
   "execution_count": 2,
   "metadata": {},
   "outputs": [],
   "source": [
    "# Function to find the GCD of two integers by using the Euclidean Algorithm.\n",
    "def gcd(a, b):\n",
    "    dividend = max(a, b)\n",
    "    divisor = min(a, b)\n",
    "    r = dividend % divisor\n",
    "    if (r == 0):\n",
    "        if (divisor  < 0):\n",
    "            divisor = -divisor\n",
    "        return divisor\n",
    "    else:\n",
    "        return gcd(divisor, r)"
   ]
  },
  {
   "cell_type": "code",
   "execution_count": 3,
   "metadata": {},
   "outputs": [],
   "source": [
    "# Determine if a number is prime by checking the GCD of the number and \n",
    "# every number less than or equal to its square root.\n",
    "def is_prime(n):\n",
    "    has_factor = False\n",
    "    i = 2\n",
    "    while i <= n ** 0.5:\n",
    "        if gcd(i, n) != 1:\n",
    "            has_factor = True\n",
    "            break\n",
    "        i += 1\n",
    "    return not has_factor"
   ]
  },
  {
   "cell_type": "code",
   "execution_count": 4,
   "metadata": {},
   "outputs": [],
   "source": [
    "# Python implementation of the Sieve of Eratosthnes algorithm to return all prime numbers\n",
    "# less than or equal to a given number.\n",
    "# Precondition: n >= 2 (Exception raised if this is not met)\n",
    "def sieve_of_eratosthenes(n):\n",
    "    if n < 2:\n",
    "        raise Exception(\"Expected n >= 2, got n = {}\".format(n))\n",
    "    all_nums = []\n",
    "    for i in range(2, n+1):\n",
    "        all_nums.append({\"number\": i, \"flag\": False})\n",
    "    p = 2\n",
    "    while p <= n ** 0.5:\n",
    "        i = 2\n",
    "        while i * p <= n:\n",
    "            all_nums[(i * p) - 2][\"flag\"] = True\n",
    "            i += 1\n",
    "        p += 1\n",
    "    primes = []\n",
    "    for entry in all_nums:\n",
    "        if not entry[\"flag\"]:\n",
    "            primes.append(entry[\"number\"])\n",
    "    return primes"
   ]
  },
  {
   "cell_type": "code",
   "execution_count": 5,
   "metadata": {},
   "outputs": [],
   "source": [
    "# Euler's phi function: returns the number of integers that are relatively prime to n.\n",
    "def phi(n):\n",
    "    val = 0\n",
    "    for i in range(1, n):\n",
    "        if gcd(i, n) == 1:\n",
    "            val += 1\n",
    "    return val"
   ]
  },
  {
   "cell_type": "code",
   "execution_count": 6,
   "metadata": {},
   "outputs": [],
   "source": [
    "# Calculates the unique prime factorization of a number and returns the result as a list.\n",
    "# Precondition: n >= 2 (Exception raised if this is not true)\n",
    "def upf(n):\n",
    "    if n < 2:\n",
    "        raise Exception(\"Expected parameter to be at least 2, found {}\".format(n))\n",
    "    factors = []\n",
    "    p = 2\n",
    "    while n >= p:\n",
    "        if n % p == 0:\n",
    "            factors.append(p)\n",
    "            n = n / p\n",
    "        else:\n",
    "            p += 1\n",
    "    return factors"
   ]
  },
  {
   "cell_type": "code",
   "execution_count": 10,
   "metadata": {},
   "outputs": [
    {
     "name": "stderr",
     "output_type": "stream",
     "text": [
      "test_gcd_has_factors (__main__.Tests) ... ok\n",
      "test_gcd_rel_prime (__main__.Tests) ... ok\n",
      "test_not_prime (__main__.Tests) ... ok\n",
      "test_phi_composite (__main__.Tests) ... ok\n",
      "test_phi_prime (__main__.Tests) ... ok\n",
      "test_prime (__main__.Tests) ... ok\n",
      "test_sieve (__main__.Tests) ... ok\n",
      "test_sieve_exception (__main__.Tests) ... ok\n",
      "test_upf (__main__.Tests) ... ok\n",
      "test_upf_exception (__main__.Tests) ... ok\n",
      "\n",
      "----------------------------------------------------------------------\n",
      "Ran 10 tests in 0.013s\n",
      "\n",
      "OK\n"
     ]
    },
    {
     "data": {
      "text/plain": [
       "<unittest.main.TestProgram at 0x10c333d68>"
      ]
     },
     "execution_count": 10,
     "metadata": {},
     "output_type": "execute_result"
    }
   ],
   "source": [
    "class Tests(unittest.TestCase):\n",
    "    \n",
    "    def test_gcd_rel_prime(self):\n",
    "        self.assertEqual(gcd(5, 2), 1)\n",
    "        self.assertEqual(gcd(28, 9), 1)\n",
    "        self.assertEqual(gcd(512, 183), 1)\n",
    "        \n",
    "    def test_gcd_has_factors(self):\n",
    "        self.assertEqual(gcd(72, 30), 6)\n",
    "        self.assertEqual(gcd(1500, 900), 300)\n",
    "        self.assertEqual(gcd(27, 81), 27)\n",
    "        self.assertEqual(gcd(8, 8), 8)\n",
    "        self.assertEqual(gcd(-1, 4), 1)\n",
    "        \n",
    "    def test_prime(self):\n",
    "        self.assertEqual(is_prime(5), True)\n",
    "        self.assertEqual(is_prime(13), True)\n",
    "        self.assertEqual(is_prime(59), True)\n",
    "        self.assertEqual(is_prime(163), True)\n",
    "        \n",
    "    def test_not_prime(self):\n",
    "        self.assertEqual(is_prime(8), False)\n",
    "        self.assertEqual(is_prime(25), False)\n",
    "        self.assertEqual(is_prime(33), False)\n",
    "        self.assertEqual(is_prime(121), False)\n",
    "        \n",
    "    def test_sieve(self):\n",
    "        test = [2, 3, 5, 7]\n",
    "        self.assertEqual(sieve_of_eratosthenes(10), test)\n",
    "        test.extend([11, 13, 17, 19, 23, 29, 31, 37, 41, 43, 47])\n",
    "        self.assertEqual(sieve_of_eratosthenes(50), test)\n",
    "        test.extend([53, 59, 61, 67, 71, 73, 79, 83, 89, 97])\n",
    "        self.assertEqual(sieve_of_eratosthenes(100), test)\n",
    "        \n",
    "    def test_sieve_exception(self):\n",
    "        self.assertRaises(Exception, sieve_of_eratosthenes, 0)\n",
    "        \n",
    "    def test_phi_prime(self):\n",
    "        self.assertEqual(phi(2), 1)\n",
    "        self.assertEqual(phi(7), 6)\n",
    "        self.assertEqual(phi(23), 22)\n",
    "        self.assertEqual(phi(83), 82)\n",
    "        \n",
    "    def test_phi_composite(self):\n",
    "        self.assertEqual(phi(8), 4)\n",
    "        self.assertEqual(phi(20), 8)\n",
    "        self.assertEqual(phi(33), 20)\n",
    "        \n",
    "    def test_upf_exception(self):\n",
    "        self.assertRaises(Exception, upf, 1)\n",
    "        \n",
    "    def test_upf(self):\n",
    "        self.assertEqual(upf(2), [2])\n",
    "        self.assertEqual(upf(81), [3, 3, 3, 3])\n",
    "        self.assertEqual(upf(169), [13, 13])\n",
    "        self.assertEqual(upf(360), [2, 2, 2, 3, 3, 5])\n",
    "        \n",
    "unittest.main(argv=[''], verbosity=2, exit=False)"
   ]
  },
  {
   "cell_type": "code",
   "execution_count": null,
   "metadata": {},
   "outputs": [],
   "source": []
  }
 ],
 "metadata": {
  "kernelspec": {
   "display_name": "Python 3",
   "language": "python",
   "name": "python3"
  },
  "language_info": {
   "codemirror_mode": {
    "name": "ipython",
    "version": 3
   },
   "file_extension": ".py",
   "mimetype": "text/x-python",
   "name": "python",
   "nbconvert_exporter": "python",
   "pygments_lexer": "ipython3",
   "version": "3.6.5"
  }
 },
 "nbformat": 4,
 "nbformat_minor": 2
}
